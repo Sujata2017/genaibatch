{
 "cells": [
  {
   "cell_type": "markdown",
   "id": "0de7e300",
   "metadata": {},
   "source": [
    "# Hands on with LangChain - Access APIs Using Langchain"
   ]
  },
  {
   "cell_type": "code",
   "execution_count": 1,
   "id": "80679b49",
   "metadata": {},
   "outputs": [
    {
     "name": "stdout",
     "output_type": "stream",
     "text": [
      "ok!\n"
     ]
    }
   ],
   "source": [
    "import langchain\n",
    "print(\"ok!\")"
   ]
  },
  {
   "cell_type": "code",
   "execution_count": 2,
   "id": "09f53b04",
   "metadata": {},
   "outputs": [
    {
     "data": {
      "text/plain": [
       "True"
      ]
     },
     "execution_count": 2,
     "metadata": {},
     "output_type": "execute_result"
    }
   ],
   "source": [
    "from dotenv import load_dotenv\n",
    "\n",
    "load_dotenv()  # take environment variables from .env."
   ]
  },
  {
   "cell_type": "code",
   "execution_count": 3,
   "id": "ae901a35",
   "metadata": {},
   "outputs": [],
   "source": [
    "import os\n",
    "GOOGLE_API_KEY=os.getenv(\"GOOGLE_API_KEY\")"
   ]
  },
  {
   "cell_type": "code",
   "execution_count": 4,
   "id": "6534544c",
   "metadata": {},
   "outputs": [],
   "source": [
    "HUGGINGFACE_API_KEY=os.getenv(\"HUGGINGFACE_API_KEY\")"
   ]
  },
  {
   "cell_type": "code",
   "execution_count": 5,
   "id": "2053e40b",
   "metadata": {},
   "outputs": [],
   "source": [
    "OPENAI_API_KEY=os.getenv(\"OPENAI_API_KEY\")"
   ]
  },
  {
   "cell_type": "markdown",
   "id": "ed431dc5",
   "metadata": {},
   "source": [
    "# Langchain with openapi api"
   ]
  },
  {
   "cell_type": "code",
   "execution_count": 6,
   "id": "cf426828",
   "metadata": {},
   "outputs": [],
   "source": [
    "import openai"
   ]
  },
  {
   "cell_type": "code",
   "execution_count": 7,
   "id": "bb96a869",
   "metadata": {},
   "outputs": [],
   "source": [
    "from langchain.llms import OpenAI"
   ]
  },
  {
   "cell_type": "code",
   "execution_count": 8,
   "id": "4f9b1ab6",
   "metadata": {},
   "outputs": [
    {
     "name": "stderr",
     "output_type": "stream",
     "text": [
      "c:\\Users\\roys21\\Downloads\\genaibatch\\venv\\lib\\site-packages\\langchain_core\\_api\\deprecation.py:117: LangChainDeprecationWarning: The class `langchain_community.llms.openai.OpenAI` was deprecated in langchain-community 0.0.10 and will be removed in 0.2.0. An updated version of the class exists in the langchain-openai package and should be used instead. To use it run `pip install -U langchain-openai` and import as `from langchain_openai import OpenAI`.\n",
      "  warn_deprecated(\n"
     ]
    }
   ],
   "source": [
    "llm=OpenAI()"
   ]
  },
  {
   "cell_type": "code",
   "execution_count": 9,
   "id": "fbeb703a",
   "metadata": {},
   "outputs": [],
   "source": [
    "text=\"can you tell me about Chaina?\""
   ]
  },
  {
   "cell_type": "code",
   "execution_count": 10,
   "id": "5e20e3ea",
   "metadata": {},
   "outputs": [
    {
     "name": "stderr",
     "output_type": "stream",
     "text": [
      "c:\\Users\\roys21\\Downloads\\genaibatch\\venv\\lib\\site-packages\\langchain_core\\_api\\deprecation.py:117: LangChainDeprecationWarning: The function `predict` was deprecated in LangChain 0.1.7 and will be removed in 0.2.0. Use invoke instead.\n",
      "  warn_deprecated(\n"
     ]
    },
    {
     "name": "stdout",
     "output_type": "stream",
     "text": [
      "\n",
      "\n",
      "China, officially known as the People's Republic of China, is a country located in East Asia. It is the world's most populous country, with a population of over 1.4 billion people. It covers a total area of 9.6 million square kilometers, making it the fourth largest country in the world.\n",
      "\n",
      "China has a long history dating back over 5,000 years and is known for its rich cultural heritage. It is home to one of the world's oldest civilizations and has made significant contributions to fields such as art, philosophy, literature, and science.\n",
      "\n",
      "The country is ruled by the Communist Party of China and has a socialist political system. Its economy is the second largest in the world, driven by manufacturing and exports. China is also a major player in global trade and is a member of various international organizations such as the United Nations, World Trade Organization, and G20.\n",
      "\n",
      "Chinese society is heavily influenced by Confucianism, with emphasis on respect for authority, family, and education. Mandarin Chinese is the official language, but there are also numerous regional dialects spoken throughout the country.\n",
      "\n",
      "China is a popular tourist destination, with attractions such as the Great Wall, the Forbidden City, and the Terracotta Army. It also has a diverse landscape\n"
     ]
    }
   ],
   "source": [
    "print(llm.predict(text))"
   ]
  },
  {
   "cell_type": "markdown",
   "id": "6a20bcd6",
   "metadata": {},
   "source": [
    "# Langchain with Huggingface hub"
   ]
  },
  {
   "cell_type": "code",
   "execution_count": 11,
   "id": "7961c3b1",
   "metadata": {},
   "outputs": [],
   "source": [
    "from langchain import HuggingFaceHub"
   ]
  },
  {
   "cell_type": "code",
   "execution_count": 12,
   "id": "60d2114f",
   "metadata": {},
   "outputs": [
    {
     "name": "stderr",
     "output_type": "stream",
     "text": [
      "c:\\Users\\roys21\\Downloads\\genaibatch\\venv\\lib\\site-packages\\langchain_core\\_api\\deprecation.py:117: LangChainDeprecationWarning: The class `langchain_community.llms.huggingface_hub.HuggingFaceHub` was deprecated in langchain-community 0.0.21 and will be removed in 0.2.0. Use HuggingFaceEndpoint instead.\n",
      "  warn_deprecated(\n",
      "c:\\Users\\roys21\\Downloads\\genaibatch\\venv\\lib\\site-packages\\tqdm\\auto.py:21: TqdmWarning: IProgress not found. Please update jupyter and ipywidgets. See https://ipywidgets.readthedocs.io/en/stable/user_install.html\n",
      "  from .autonotebook import tqdm as notebook_tqdm\n"
     ]
    }
   ],
   "source": [
    "llm2=HuggingFaceHub(repo_id=\"google/flan-t5-large\",huggingfacehub_api_token=HUGGINGFACE_API_KEY)"
   ]
  },
  {
   "cell_type": "code",
   "execution_count": 13,
   "id": "a257aa22",
   "metadata": {},
   "outputs": [
    {
     "name": "stderr",
     "output_type": "stream",
     "text": [
      "c:\\Users\\roys21\\Downloads\\genaibatch\\venv\\lib\\site-packages\\langchain_core\\_api\\deprecation.py:117: LangChainDeprecationWarning: The function `__call__` was deprecated in LangChain 0.1.7 and will be removed in 0.2.0. Use invoke instead.\n",
      "  warn_deprecated(\n"
     ]
    },
    {
     "name": "stdout",
     "output_type": "stream",
     "text": [
      "58,589,526\n"
     ]
    }
   ],
   "source": [
    "print(llm2(\"What is the population of Delhi?\"))"
   ]
  },
  {
   "cell_type": "code",
   "execution_count": 14,
   "id": "8dd7c78f",
   "metadata": {},
   "outputs": [],
   "source": [
    "llm3=HuggingFaceHub(repo_id=\"mistralai/Mistral-7B-Instruct-v0.2\",huggingfacehub_api_token=HUGGINGFACE_API_KEY)"
   ]
  },
  {
   "cell_type": "code",
   "execution_count": 15,
   "id": "a00a5c98",
   "metadata": {},
   "outputs": [
    {
     "name": "stdout",
     "output_type": "stream",
     "text": [
      "what is the capital city of India?\n",
      "\n",
      "New Delhi is the capital city of India. It is a city that combines the old and the new, with historic sites and modern infrastructure. New Delhi is located in the northern part of India and is the political and administrative hub of the country. It is home to many government buildings, embassies, and diplomatic missions. The city is also known for its vibrant culture, delicious food, and bustling markets. Some popular tourist attractions in New Delhi include the Red Fort\n"
     ]
    }
   ],
   "source": [
    "print(llm3(\"what is the capital city of India?\"))"
   ]
  },
  {
   "cell_type": "code",
   "execution_count": 16,
   "id": "9723f730",
   "metadata": {},
   "outputs": [
    {
     "name": "stdout",
     "output_type": "stream",
     "text": [
      "can you give me 200 line of summary on the capital city of India New Delhi\n",
      "\n",
      "New Delhi, the capital city of India, is a bustling metropolis and a political, cultural, and commercial hub. It is located in the northern part of India, in the National Capital Territory of Delhi. The city was founded in 1911 by the British Raj as a replacement for Calcutta as the capital of India.\n",
      "\n",
      "New Delhi is a city of contrasts, where ancient monuments and modern infrastructure coexist. The city is\n"
     ]
    }
   ],
   "source": [
    "print(llm3.predict(\"can you give me 200 line of summary on the capital city of India\"))"
   ]
  },
  {
   "cell_type": "markdown",
   "id": "a42798ff",
   "metadata": {},
   "source": [
    "# Lanchain with gemini api"
   ]
  },
  {
   "cell_type": "code",
   "execution_count": 17,
   "id": "4928878a",
   "metadata": {},
   "outputs": [],
   "source": [
    "from langchain_google_genai import ChatGoogleGenerativeAI"
   ]
  },
  {
   "cell_type": "code",
   "execution_count": 18,
   "id": "95defdce",
   "metadata": {},
   "outputs": [],
   "source": [
    "llm4=ChatGoogleGenerativeAI(model=\"gemini-pro\",google_api_key=GOOGLE_API_KEY)"
   ]
  },
  {
   "cell_type": "code",
   "execution_count": 19,
   "id": "1cf6170b",
   "metadata": {},
   "outputs": [
    {
     "name": "stderr",
     "output_type": "stream",
     "text": [
      "c:\\Users\\roys21\\Downloads\\genaibatch\\venv\\lib\\site-packages\\langchain_core\\_api\\deprecation.py:117: LangChainDeprecationWarning: The function `predict` was deprecated in LangChain 0.1.7 and will be removed in 0.2.0. Use invoke instead.\n",
      "  warn_deprecated(\n"
     ]
    },
    {
     "data": {
      "text/plain": [
       "'Washington D.C.'"
      ]
     },
     "execution_count": 19,
     "metadata": {},
     "output_type": "execute_result"
    }
   ],
   "source": [
    "llm4.predict(\"what is capital of USA?\")"
   ]
  },
  {
   "cell_type": "code",
   "execution_count": 20,
   "id": "4d2c94f2",
   "metadata": {},
   "outputs": [
    {
     "data": {
      "text/plain": [
       "'Washington, D.C.'"
      ]
     },
     "execution_count": 20,
     "metadata": {},
     "output_type": "execute_result"
    }
   ],
   "source": [
    "llm4.invoke(\"what is capital of USA?\").content"
   ]
  }
 ],
 "metadata": {
  "kernelspec": {
   "display_name": "Python 3",
   "language": "python",
   "name": "python3"
  },
  "language_info": {
   "codemirror_mode": {
    "name": "ipython",
    "version": 3
   },
   "file_extension": ".py",
   "mimetype": "text/x-python",
   "name": "python",
   "nbconvert_exporter": "python",
   "pygments_lexer": "ipython3",
   "version": "3.10.13"
  }
 },
 "nbformat": 4,
 "nbformat_minor": 5
}
